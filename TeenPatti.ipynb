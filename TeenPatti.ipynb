{
 "cells": [
  {
   "cell_type": "code",
   "execution_count": null,
   "metadata": {
    "collapsed": true
   },
   "outputs": [],
   "source": [
    "pattern trench reuse as said, see which are activated with mi in previous machines"
   ]
  },
  {
   "cell_type": "code",
   "execution_count": null,
   "metadata": {
    "collapsed": true
   },
   "outputs": [],
   "source": [
    "1-4,11-23"
   ]
  },
  {
   "cell_type": "code",
   "execution_count": 1,
   "metadata": {
    "collapsed": true
   },
   "outputs": [],
   "source": [
    "import numpy as np"
   ]
  },
  {
   "cell_type": "code",
   "execution_count": 2,
   "metadata": {
    "collapsed": true
   },
   "outputs": [],
   "source": [
    "dicuni=[]\n",
    "for i in range(4):\n",
    "    for j in range(13):\n",
    "        dicuni.append((i+1)*100+j+1)"
   ]
  },
  {
   "cell_type": "code",
   "execution_count": 3,
   "metadata": {
    "collapsed": true
   },
   "outputs": [],
   "source": [
    "def unicomp(a,b):\n",
    "    return(np.array([(d in b) for d in a]))"
   ]
  },
  {
   "cell_type": "code",
   "execution_count": 4,
   "metadata": {},
   "outputs": [],
   "source": [
    "def trailer(arr):\n",
    "    arr[arr%100==1]=arr[arr%100==1]+13\n",
    "    fau=np.sum(arr==0)\n",
    "    if(fau>=3):\n",
    "        return(1000)\n",
    "    trail1=0\n",
    "    trail2=0\n",
    "    a1,a2=np.unique(arr%100,return_counts=True)\n",
    "    if(np.max(a2)>=(3-fau)):\n",
    "        trail1=1\n",
    "        trail2=np.max(a1[np.argwhere(a2>=(3-fau))])\n",
    "    return(trail1+trail2/100)\n",
    "\n",
    "def pureseqer(arr):\n",
    "    fau=np.sum(arr==0)\n",
    "    if(fau>=2):\n",
    "        return(0)\n",
    "    if(fau==1):\n",
    "        arr=arr[arr!=0]\n",
    "        arr=np.sort(np.array(arr.tolist()+(arr[arr%100==1]+13).tolist()))\n",
    "        arrdiff=[arr[fd+1]-arr[fd] for fd in range(len(arr)-1)]\n",
    "        xx=[]\n",
    "        for ty in np.argwhere(arrdiff==2):\n",
    "            if(arr[ty]==1):\n",
    "                xx.append(13.5)\n",
    "            else:\n",
    "                xx.append(arr[ty+1]);\n",
    "        for ty in np.argwhere(arrdiff==1):\n",
    "            if(arr[ty+1]==14):\n",
    "                xx.append(14)\n",
    "        if(len(xx)>0):\n",
    "            return(np.max(xx))\n",
    "    arr=np.sort(arr)\n",
    "    arrdiff=np.array([arr[fd+2]-arr[fd] for fd in range(len(arr)-2)])\n",
    "    if(np.any(arrdiff==2)):\n",
    "        s=np.max(np.argwhere(arrdiff==2))\n",
    "        seqs=arr[s:s+3]\n",
    "        if(seqs[0]==1):\n",
    "            seqs[0]=seqs[2]\n",
    "            seqs[2]=14\n",
    "        return(seqs[2]+seqs[1]/100+seqs[2]/10000)\n",
    "    return(0)\n",
    "\n",
    "def seqer(arr):\n",
    "    arr=arr%100\n",
    "    arr=arr+100\n",
    "    arr[arr==100]=0\n",
    "    return(pureseqer(arr))\n",
    "    \n",
    "    \n",
    "def colorizer(arr):\n",
    "    arr[arr%100==1]=arr[arr%100==1]+13\n",
    "    color1=0\n",
    "    color2=0\n",
    "    fau=np.sum(arr==0)\n",
    "    if(fau>=3):\n",
    "        return(0)\n",
    "    a1,a2=np.unique(arr[arr!=0]//100,return_counts=True)\n",
    "    if(np.max(a2)>=(3-fau)):\n",
    "        color1=1\n",
    "        color2=(np.sort(arr[arr//100==a1[np.argmax(a2)]]%100)[::-1]).tolist()\n",
    "        if(fau!=0):\n",
    "            color2=[14]*fau+color2\n",
    "        color2=color2[:3]\n",
    "        color2=np.sum([color2[d]/(100**(d+1)) for d in range(len(color2))])\n",
    "    return(color1+color2)\n",
    "\n",
    "def pairer(arr):\n",
    "    fau=np.sum(arr==0)\n",
    "    if(fau>=2):\n",
    "        return(0)\n",
    "    arr=arr[arr!=0]%100\n",
    "    arr[arr==1]=arr[arr==1]+13\n",
    "    if(fau==1):\n",
    "        if(np.sum(arr==np.max(arr))>=2):\n",
    "            return(0)\n",
    "        else:\n",
    "            pairer1=np.max(arr)\n",
    "            pairer2=arr[arr!=pairer1]\n",
    "            return(pairer1+pairer2/100)\n",
    "            \n",
    "        \n",
    "    \n",
    "        \n",
    "    \n",
    "    a1,a2=np.unique(arr,return_counts=True)\n",
    "    if(np.max(a2)==2):\n",
    "        if(np.sum(a2==2)==2):\n",
    "            pairer1=(np.max(a1[a2==2]))\n",
    "            pairer2=np.max(a1[a1!=pairer1])\n",
    "            return(pairer1+pairer2/100)\n",
    "    return(0)\n",
    "\n",
    "def highcarder(arr):\n",
    "    arr=arr%100\n",
    "    arr[arr==0]=arr[arr==0]+14\n",
    "    arr[arr==1]=arr[arr==1]+13\n",
    "    arr=np.sort(arr)[::-1]\n",
    "    arr=arr[:3]\n",
    "    return(arr[0]+arr[1]/100+arr[2]/10000)\n",
    "        \n",
    "def strengthnumerator(arr):\n",
    "    arr=np.array(arr)\n",
    "    return([trailer(arr),pureseqer(arr),seqer(arr),colorizer(arr),pairer(arr),highcarder(arr)])\n",
    "    \n",
    "    \n",
    "    "
   ]
  },
  {
   "cell_type": "code",
   "execution_count": 5,
   "metadata": {
    "collapsed": true
   },
   "outputs": [],
   "source": [
    "def play(dic,ncardsInHand=3,nplayers=4):\n",
    "    players=np.reshape(np.random.choice(dic,ncardsInHand*(nplayers-1),replace=False),newshape=(ncardsInHand,(nplayers-1)))\n",
    "    return([strengthnumerator(r) for r in players])\n",
    "    "
   ]
  },
  {
   "cell_type": "code",
   "execution_count": 6,
   "metadata": {},
   "outputs": [],
   "source": [
    "def decidewinner(arrs):\n",
    "    #print(arrs)\n",
    "    \n",
    "    arrs=np.array(arrs)\n",
    "    #print(arrs.shape)\n",
    "    indices=np.array([True]*arrs.shape[0])\n",
    "    for i in range(arrs.shape[1]):\n",
    "        indices=(arrs[:,i]==np.max(arrs[:,i])) * indices\n",
    "        if(np.sum(indices)==1):\n",
    "            break;\n",
    "    if(indices[-1]==True):\n",
    "        return(1)\n",
    "    else:\n",
    "        return(0)\n",
    "    \n",
    "def game(hand,faucards=[],ncardsInHand=3,nplayers=4):\n",
    "    finalresult=[]\n",
    "    dic=np.array(list(set(dicuni)-set(faucards)-set(hand)))\n",
    "    faucards=np.array(faucards)\n",
    "    hand=np.array(hand)\n",
    "    if(len(faucards)!=0):\n",
    "        hand[unicomp(hand%100, faucards%100)]=0\n",
    "        dic[unicomp(dic%100, faucards%100)]=0\n",
    "    handstrength=strengthnumerator(hand)\n",
    "    print(handstrength)\n",
    "    for tq in range(1000):\n",
    "        playerss=play(dic,ncardsInHand,nplayers)\n",
    "        #print(playerss)\n",
    "        finalresult=finalresult+[(decidewinner(playerss+[handstrength]))]\n",
    "    return(np.mean(finalresult))\n",
    "        \n",
    "    "
   ]
  },
  {
   "cell_type": "code",
   "execution_count": 13,
   "metadata": {},
   "outputs": [
    {
     "name": "stdout",
     "output_type": "stream",
     "text": [
      "[0.0, 0, 0, 0, 0, 14.140400000000001]\n"
     ]
    },
    {
     "data": {
      "text/plain": [
       "0.676"
      ]
     },
     "execution_count": 13,
     "metadata": {},
     "output_type": "execute_result"
    }
   ],
   "source": [
    "game([214,204,314])"
   ]
  }
 ],
 "metadata": {
  "kernelspec": {
   "display_name": "Python 3",
   "language": "python",
   "name": "python3"
  },
  "language_info": {
   "codemirror_mode": {
    "name": "ipython",
    "version": 3
   },
   "file_extension": ".py",
   "mimetype": "text/x-python",
   "name": "python",
   "nbconvert_exporter": "python",
   "pygments_lexer": "ipython3",
   "version": "3.6.0"
  }
 },
 "nbformat": 4,
 "nbformat_minor": 2
}
